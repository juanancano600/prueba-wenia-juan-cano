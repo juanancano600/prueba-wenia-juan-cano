{
 "cells": [
  {
   "cell_type": "code",
   "execution_count": 3,
   "id": "4853f133",
   "metadata": {},
   "outputs": [
    {
     "name": "stderr",
     "output_type": "stream",
     "text": [
      "...\n",
      "----------------------------------------------------------------------\n",
      "Ran 3 tests in 0.003s\n",
      "\n",
      "OK\n"
     ]
    }
   ],
   "source": [
    "import unittest\n",
    "from fuzzywuzzy import fuzz\n",
    "\n",
    "def generar_variantes(direccion):\n",
    "    variantes = set()\n",
    "    direccion = direccion.upper()\n",
    "    variantes_generadas = [\n",
    "        direccion.replace('CALLE', 'CLL'),\n",
    "        direccion.replace('CARRERA', 'CRA'),\n",
    "        direccion.replace('KRA', 'CRA'),\n",
    "        direccion.replace('NRO', '#'),\n",
    "        direccion.replace('NUM', \"#\"),\n",
    "        direccion.replace('NUMERO', '#'),\n",
    "    ]\n",
    "    for variante in variantes_generadas:\n",
    "        if variante != direccion:\n",
    "            variantes.add(variante)\n",
    "    return list(variantes)\n",
    "\n",
    "class TestDirecciones(unittest.TestCase):\n",
    "\n",
    "    def test_generar_variantes(self):\n",
    "        resultado = generar_variantes('CALLE 23 # 45-67')\n",
    "        self.assertIn('CLL 23 # 45-67', resultado)\n",
    "        self.assertNotIn('CALLE 23 # 45-67', resultado)\n",
    "        resultado2 = generar_variantes('CARRERA 11 # 56-12')\n",
    "        self.assertIn('CRA 11 # 56-12', resultado2)\n",
    "        self.assertNotIn('CARRERA 11 # 56-12', resultado2)\n",
    "\n",
    "    def test_generar_variantes_sin_cambios(self):\n",
    "        resultado = generar_variantes('AVENIDA 45 # 12-34')\n",
    "        self.assertEqual(resultado, [])  # No debe generar variantes\n",
    "\n",
    "    def test_token_sort_ratio(self):\n",
    "        dir1 = 'CARRERA 15 NRO 32-10'\n",
    "        dir2 = 'CRA 15 NRO 32-10'\n",
    "        score = fuzz.token_sort_ratio(dir1, dir2)\n",
    "        self.assertTrue(80 < score < 100)  # Debe estar en rango alto, pero no 100\n",
    "\n",
    "if __name__ == '__main__':\n",
    "    unittest.main(argv=['first-arg-is-ignored'], exit=False)\n"
   ]
  }
 ],
 "metadata": {
  "kernelspec": {
   "display_name": "Python 3",
   "language": "python",
   "name": "python3"
  },
  "language_info": {
   "codemirror_mode": {
    "name": "ipython",
    "version": 3
   },
   "file_extension": ".py",
   "mimetype": "text/x-python",
   "name": "python",
   "nbconvert_exporter": "python",
   "pygments_lexer": "ipython3",
   "version": "3.13.5"
  }
 },
 "nbformat": 4,
 "nbformat_minor": 5
}
