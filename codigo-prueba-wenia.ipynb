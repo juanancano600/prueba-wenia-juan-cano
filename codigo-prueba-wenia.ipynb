{
 "cells": [
  {
   "cell_type": "code",
   "execution_count": 35,
   "id": "8d1b463e",
   "metadata": {},
   "outputs": [
    {
     "name": "stdout",
     "output_type": "stream",
     "text": [
      "Archivo subido correctamente a S3\n"
     ]
    }
   ],
   "source": [
    "import boto3\n",
    "\n",
    "ACCESS_KEY = \"Add your AWS Access Key\"\n",
    "SECRET_KEY = \"Add your AWS secret key\"\n",
    "REGION = \"us-east-2\"\n",
    "BUCKET = \"prueba-tecnica-juan-cano\"\n",
    "PATH_LOCAL = r\"C:\\Users\\CaJu670\\Desktop\\prueba-wenia-juan-cano\\direcciones_originales.csv\"\n",
    "NOMBRE_REMOTO = \"variantes_direcciones.csv\"\n",
    "\n",
    "s3 = boto3.client(\n",
    "    's3',\n",
    "    aws_access_key_id=ACCESS_KEY,\n",
    "    aws_secret_access_key=SECRET_KEY,\n",
    "    region_name=REGION\n",
    ")\n",
    "\n",
    "s3.upload_file(PATH_LOCAL, BUCKET, NOMBRE_REMOTO)\n",
    "print(\"Archivo subido correctamente a S3\")\n"
   ]
  },
  {
   "cell_type": "code",
   "execution_count": null,
   "id": "9e9f99a6",
   "metadata": {},
   "outputs": [],
   "source": [
    "import pandas as pd\n",
    "\n",
    "# direcciones_originales.csv, fue un archivo que tuve que crear yo mismo porque no lo recibí con la prueba técnica \n",
    "df = pd.read_csv('direcciones_originales.csv')\n",
    "\n",
    "def generar_variantes(direccion):\n",
    "    variantes = set()\n",
    "    direccion = direccion.upper()\n",
    "    variantes_generadas = [\n",
    "        direccion.replace('CALLE', 'CLL'),\n",
    "        direccion.replace('CARRERA', 'CRA'),\n",
    "        direccion.replace('KRA', 'CRA'),\n",
    "        direccion.replace('NRO', '#'),\n",
    "        direccion.replace('NUM', \"#\"),\n",
    "        direccion.replace('NUMERO', '#'),\n",
    "    ]\n",
    "    \n",
    "    for variante in variantes_generadas:\n",
    "        if variante != direccion:\n",
    "            variantes.add(variante)\n",
    "    return list(variantes)\n",
    "\n"
   ]
  },
  {
   "cell_type": "code",
   "execution_count": 37,
   "id": "4081915d",
   "metadata": {},
   "outputs": [],
   "source": [
    "rows = []\n",
    "for original in df['direccion']:\n",
    "    variants = generar_variantes(original)\n",
    "    for variante in variants:\n",
    "        rows.append({'original': original, 'variante': variante})\n",
    "df_variantes = pd.DataFrame(rows)\n",
    "\n",
    "#  El archivo direcciones_homonimas.csv contiene las variantes formas alternativas de escritura de cada dirección original\n",
    "df_variantes.to_csv('direcciones_homonimas.csv', index=False)\n",
    "\n",
    "\n",
    "similares = []\n",
    "for _, row in df_variantes.iterrows():\n",
    "    score = fuzz.token_sort_ratio(row['original'], row['variante'])\n",
    "    if score > 90:\n",
    "        similares.append({\n",
    "            'original': row['original'],\n",
    "            'variante': row['variante'],\n",
    "            'similitud': score\n",
    "        })\n",
    "\n",
    "df_similares = pd.DataFrame(similares)\n",
    "\n",
    "# El archivo direcciones_similares.csv es el resultado de comparar cada dirección original con sus variantes las del archivo de homónimas y quedarse solo con las variantes cuya similitud es mayor al 90%\n",
    "df_similares.to_csv('direcciones_similares.csv', index=False)"
   ]
  },
  {
   "cell_type": "code",
   "execution_count": 38,
   "id": "6069f9f5",
   "metadata": {},
   "outputs": [],
   "source": [
    "import pandas as pd\n",
    "import requests\n",
    "import time\n",
    "\n",
    "# Tu API Key de Google\n",
    "GOOGLE_API_KEY = 'Add your google API KEY'\n",
    "\n",
    "# Cargar direcciones similares\n",
    "df = pd.read_csv('direcciones_similares.csv')\n",
    "\n",
    "# Crear columnas vacías para latitud y longitud\n",
    "df['lat'] = None\n",
    "df['lng'] = None\n",
    "\n",
    "for idx, row in df.iterrows():\n",
    "    direccion = row['variante']\n",
    "    direccion_query = f\"{direccion}, Medellin, Colombia\"  # Puedes adaptar la ciudad\n",
    "    url = f\"https://maps.googleapis.com/maps/api/geocode/json?address={direccion_query}&key={GOOGLE_API_KEY}\"\n",
    "    response = requests.get(url)\n",
    "    if response.status_code == 200:\n",
    "        result = response.json()\n",
    "        if result['results']:\n",
    "            location = result['results'][0]['geometry']['location']\n",
    "            df.at[idx, 'lat'] = location['lat']\n",
    "            df.at[idx, 'lng'] = location['lng']\n",
    "    time.sleep(0.15)  \n",
    "\n",
    "\n",
    "df.to_csv('direcciones_georreferenciadas.csv', index=False)\n"
   ]
  },
  {
   "cell_type": "code",
   "execution_count": null,
   "id": "bad64b77",
   "metadata": {},
   "outputs": [],
   "source": [
    "import folium\n",
    "\n",
    "# El archivo direcciones_georreferenciadas.csv contiene las coordenadas de las direcciones que cumplen con los parametros\n",
    "df = pd.read_csv('direcciones_georreferenciadas.csv')\n",
    "\n",
    "\n",
    "mapa = folium.Map(location=[6.2442, -75.5812], zoom_start=12)\n",
    "\n",
    "\n",
    "for _, row in df.iterrows():\n",
    "    lat, lng, direccion = row['lat'], row['lng'], row['variante']\n",
    "    if pd.notnull(lat) and pd.notnull(lng):\n",
    "        folium.Marker(\n",
    "            [lat, lng],\n",
    "            popup=direccion,\n",
    "            icon=folium.Icon(color=\"blue\", icon=\"info-sign\"),\n",
    "        ).add_to(mapa)\n",
    "\n",
    "# Se guarda el mapa como HTML interactivo\n",
    "mapa.save('mapa_direcciones.html')\n"
   ]
  }
 ],
 "metadata": {
  "kernelspec": {
   "display_name": "Python 3",
   "language": "python",
   "name": "python3"
  },
  "language_info": {
   "codemirror_mode": {
    "name": "ipython",
    "version": 3
   },
   "file_extension": ".py",
   "mimetype": "text/x-python",
   "name": "python",
   "nbconvert_exporter": "python",
   "pygments_lexer": "ipython3",
   "version": "3.13.5"
  }
 },
 "nbformat": 4,
 "nbformat_minor": 5
}
